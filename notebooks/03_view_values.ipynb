{
 "cells": [
  {
   "cell_type": "code",
   "execution_count": 3,
   "id": "383efcad",
   "metadata": {},
   "outputs": [],
   "source": [
    "import pandas as pd"
   ]
  },
  {
   "cell_type": "code",
   "execution_count": 4,
   "id": "69b1c2e4",
   "metadata": {},
   "outputs": [],
   "source": [
    "df = pd.read_csv(\"../data/interim/cleaned.csv\")"
   ]
  },
  {
   "cell_type": "code",
   "execution_count": 6,
   "id": "9008057d",
   "metadata": {},
   "outputs": [],
   "source": [
    "categorical_features = [\n",
    "    \"Gender\",\n",
    "    \"Married\",\n",
    "    \"Dependents\",\n",
    "    \"Education\",\n",
    "    \"Self_Employed\",\n",
    "    \"Property_Area\",\n",
    "    \"Loan_Status\",\n",
    "    \"Loan_Amount_Term\"\n",
    "]"
   ]
  },
  {
   "cell_type": "code",
   "execution_count": 7,
   "id": "e3a85860",
   "metadata": {},
   "outputs": [],
   "source": [
    "numerical_features = [\n",
    "    \"ApplicantIncome\",\n",
    "    \"CoapplicantIncome\",\n",
    "    \"LoanAmount\",\n",
    "    \"Credit_History\"\n",
    "]"
   ]
  },
  {
   "cell_type": "code",
   "execution_count": 8,
   "id": "99e4e121",
   "metadata": {},
   "outputs": [
    {
     "name": "stdout",
     "output_type": "stream",
     "text": [
      "Unique values in Gender: ['Male' 'Female']\n",
      "Unique values in Married: ['No' 'Yes']\n",
      "Unique values in Dependents: ['0' '1' '2' '3+']\n",
      "Unique values in Education: ['Graduate' 'Not Graduate']\n",
      "Unique values in Self_Employed: ['No' 'Yes']\n",
      "Unique values in Property_Area: ['Urban' 'Rural' 'Semiurban']\n",
      "Unique values in Loan_Status: [1 0]\n",
      "Unique values in Loan_Amount_Term: [360. 120. 240. 180.  60. 300. 480.  36.  84.  12.]\n"
     ]
    }
   ],
   "source": [
    "for c in categorical_features:\n",
    "    print(f\"Unique values in {c}: {df[c].unique()}\")"
   ]
  },
  {
   "cell_type": "code",
   "execution_count": 10,
   "id": "6245c35c",
   "metadata": {},
   "outputs": [
    {
     "name": "stdout",
     "output_type": "stream",
     "text": [
      "Description of values in ApplicantIncome: count      614.000000\n",
      "mean      5403.459283\n",
      "std       6109.041673\n",
      "min        150.000000\n",
      "25%       2877.500000\n",
      "50%       3812.500000\n",
      "75%       5795.000000\n",
      "max      81000.000000\n",
      "Name: ApplicantIncome, dtype: float64\n",
      "Description of values in CoapplicantIncome: count      614.000000\n",
      "mean      1621.245798\n",
      "std       2926.248369\n",
      "min          0.000000\n",
      "25%          0.000000\n",
      "50%       1188.500000\n",
      "75%       2297.250000\n",
      "max      41667.000000\n",
      "Name: CoapplicantIncome, dtype: float64\n",
      "Description of values in LoanAmount: count    614.000000\n",
      "mean     146.412162\n",
      "std       84.037468\n",
      "min        9.000000\n",
      "25%      100.250000\n",
      "50%      129.000000\n",
      "75%      164.750000\n",
      "max      700.000000\n",
      "Name: LoanAmount, dtype: float64\n",
      "Description of values in Credit_History: count    614.000000\n",
      "mean       0.855049\n",
      "std        0.352339\n",
      "min        0.000000\n",
      "25%        1.000000\n",
      "50%        1.000000\n",
      "75%        1.000000\n",
      "max        1.000000\n",
      "Name: Credit_History, dtype: float64\n"
     ]
    }
   ],
   "source": [
    "for n in numerical_features:\n",
    "    print(f\"Description of values in {n}: {df[n].describe()}\")"
   ]
  },
  {
   "cell_type": "code",
   "execution_count": null,
   "id": "9823a0d4",
   "metadata": {},
   "outputs": [],
   "source": []
  }
 ],
 "metadata": {
  "kernelspec": {
   "display_name": "lap",
   "language": "python",
   "name": "python3"
  },
  "language_info": {
   "codemirror_mode": {
    "name": "ipython",
    "version": 3
   },
   "file_extension": ".py",
   "mimetype": "text/x-python",
   "name": "python",
   "nbconvert_exporter": "python",
   "pygments_lexer": "ipython3",
   "version": "3.12.3"
  }
 },
 "nbformat": 4,
 "nbformat_minor": 5
}
