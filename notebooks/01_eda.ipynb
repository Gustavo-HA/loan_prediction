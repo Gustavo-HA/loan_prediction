{
 "cells": [
  {
   "cell_type": "code",
   "execution_count": null,
   "id": "dac087b4",
   "metadata": {},
   "outputs": [],
   "source": [
    "import pandas as pd\n",
    "import matplotlib.pyplot as plt\n",
    "import seaborn as sns\n",
    "import sklearn"
   ]
  },
  {
   "cell_type": "code",
   "execution_count": null,
   "id": "8b61053f",
   "metadata": {},
   "outputs": [],
   "source": [
    "data = pd.read_csv(\"../data/raw/loan_pred.csv\")"
   ]
  },
  {
   "cell_type": "markdown",
   "id": "eba162dd",
   "metadata": {},
   "source": [
    "### Loan Prediction Dataset - Feature Definitions\n",
    "\n",
    "| Number | Feature Name     | Description                                                          |\n",
    "|--------|------------------|----------------------------------------------------------------------|\n",
    "| 1      | Loan_ID          | A unique ID for the loan application.                                |\n",
    "| 2      | Gender           | Gender of the applicant (Male/Female).                               |\n",
    "| 3      | Married          | Marital Status of the applicant (Yes/No).                            |\n",
    "| 4      | Dependents       | It tells whether the applicant has any dependents or not.            |\n",
    "| 5      | Education        | It will tell us whether the applicant is Graduated or not.           |\n",
    "| 6      | Self_Employed    | This defines that the applicant is self-employed (Yes/No).           |\n",
    "| 7      | ApplicantIncome  | Applicant income.                                                    |\n",
    "| 8      | CoapplicantIncome| Co-applicant income.                                                 |\n",
    "| 9      | LoanAmount       | Loan amount (in thousands).                                          |\n",
    "| 10     | Loan_Amount_Term | Terms of loan (in months).                                           |\n",
    "| 11     | Credit_History   | Credit history of individual's repayment of their debts.             |\n",
    "| 12     | Property_Area    | Area of property (Rural/Urban/Semi-urban).                           |\n",
    "| 13     | Loan_Status      | Status of Loan Approved or not (Y- Yes, N-No).                       |"
   ]
  },
  {
   "cell_type": "code",
   "execution_count": null,
   "id": "cc8ad6eb",
   "metadata": {},
   "outputs": [],
   "source": [
    "data.info()"
   ]
  },
  {
   "cell_type": "code",
   "execution_count": null,
   "id": "21eb42a3",
   "metadata": {},
   "outputs": [],
   "source": [
    "# Check for multiple id's \n",
    "multiple_ids = not data[\"Loan_ID\"].nunique() == len(data)\n",
    "print(f\"{multiple_ids=}\")"
   ]
  },
  {
   "cell_type": "code",
   "execution_count": null,
   "id": "fb747558",
   "metadata": {},
   "outputs": [],
   "source": [
    "# drop id columns\n",
    "data.drop(columns=[\"Loan_ID\"], inplace=True)"
   ]
  },
  {
   "cell_type": "code",
   "execution_count": null,
   "id": "585ffc12",
   "metadata": {},
   "outputs": [],
   "source": [
    "# Check distribution of categorical and binary variables\n",
    "def plot_categorical_distribution(df, column, title=None):\n",
    "    plt.figure(figsize=(6, 4))\n",
    "    sns.countplot(data=df, x=column, stat=\"probability\", hue=\"Loan_Status\", palette=\"Set2\")\n",
    "    plt.title(title if title else f'Distribution of {column}')\n",
    "    plt.xticks(rotation=45)\n",
    "    plt.savefig(\"../reports/figures/\" + column + \"_distribution.png\", bbox_inches='tight')"
   ]
  },
  {
   "cell_type": "code",
   "execution_count": null,
   "id": "a204e4c1",
   "metadata": {},
   "outputs": [],
   "source": [
    "categorical = [\"Gender\", \"Married\", \"Dependents\", \"Education\", \"Self_Employed\",\n",
    "               \"Property_Area\", \"Credit_History\"]\n",
    "\n",
    "for col in categorical:\n",
    "    _ = plot_categorical_distribution(data, col, title=f'Distribution of {col}')"
   ]
  },
  {
   "cell_type": "markdown",
   "id": "ecd75101",
   "metadata": {},
   "source": [
    "We can see the feature that matters the most is the Credit_History\n"
   ]
  },
  {
   "cell_type": "code",
   "execution_count": null,
   "id": "ebe332e5",
   "metadata": {},
   "outputs": [],
   "source": [
    "sns.pairplot(data[[\"ApplicantIncome\", \"CoapplicantIncome\", \"LoanAmount\", \"Loan_Amount_Term\", \"Loan_Status\"]],hue=\"Loan_Status\", palette=\"Set2\")"
   ]
  },
  {
   "cell_type": "code",
   "execution_count": null,
   "id": "a0f4aa27",
   "metadata": {},
   "outputs": [],
   "source": [
    "data[\"Loan_Amount_Term\"].value_counts(normalize=True).sort_index().plot(kind=\"bar\", figsize=(10, 5), title=\"Loan Amount Term Distribution\")"
   ]
  },
  {
   "cell_type": "markdown",
   "id": "2d4e8278",
   "metadata": {},
   "source": [
    "### We need to deal with the null values\n",
    "\n",
    "Although imputation by this simple techniques may lead to biased predictions, we won't care about that right now."
   ]
  },
  {
   "cell_type": "code",
   "execution_count": null,
   "id": "e7651a6b",
   "metadata": {},
   "outputs": [],
   "source": [
    "# Check for missing values\n",
    "data.isna().sum().loc[data.isna().sum() > 0]"
   ]
  },
  {
   "cell_type": "code",
   "execution_count": null,
   "id": "05991371",
   "metadata": {},
   "outputs": [],
   "source": []
  },
  {
   "cell_type": "code",
   "execution_count": null,
   "id": "bd05bdd4",
   "metadata": {},
   "outputs": [],
   "source": [
    "null_ratio = 1 - len(data.dropna())/len(data)\n",
    "print(f\"Null ratio: {null_ratio:.2f}\")"
   ]
  },
  {
   "cell_type": "code",
   "execution_count": null,
   "id": "17f6ba0e",
   "metadata": {},
   "outputs": [],
   "source": [
    "from sklearn.impute import SimpleImputer\n",
    "from sklearn.compose import ColumnTransformer\n",
    "from sklearn.pipeline import Pipeline\n",
    "from sklearn.preprocessing import (\n",
    "    OneHotEncoder,\n",
    "    OrdinalEncoder,\n",
    "    StandardScaler,\n",
    ")\n",
    "\n",
    "# We will use both most_frequent and mean imputation.\n",
    "mf_imputer = SimpleImputer(strategy=\"most_frequent\")\n",
    "mean_imputer = SimpleImputer(strategy=\"mean\")\n",
    "\n",
    "# Then we would also want to encode the categorical variables\n",
    "ohe = OneHotEncoder(sparse_output=False)\n",
    "\n",
    "# ordinal encoding for cardinal variables\n",
    "oe = OrdinalEncoder()"
   ]
  },
  {
   "cell_type": "code",
   "execution_count": null,
   "id": "982af500",
   "metadata": {},
   "outputs": [],
   "source": [
    "# for target variable\n",
    "data[\"Loan_Status\"] = data[\"Loan_Status\"].map({\"Y\": 1, \"N\": 0})\n",
    "\n",
    "features = data.drop(columns=[\"Loan_Status\"])\n",
    "target = data[\"Loan_Status\"]"
   ]
  },
  {
   "cell_type": "code",
   "execution_count": null,
   "id": "49aed259",
   "metadata": {},
   "outputs": [],
   "source": [
    "binary_columns = [\"Gender\", \"Married\", \"Education\",\n",
    "                  \"Self_Employed\", \"Credit_History\"]\n",
    "cat_columns = [\"Property_Area\"]\n",
    "ord_columns = [\"Dependents\", \"Loan_Amount_Term\"]\n",
    "num_columns = [\"ApplicantIncome\", \"CoapplicantIncome\", \"LoanAmount\"]"
   ]
  },
  {
   "cell_type": "code",
   "execution_count": null,
   "id": "bdd0df12",
   "metadata": {},
   "outputs": [],
   "source": [
    "bin_pipeline = Pipeline(steps=[\n",
    "    (\"imputer\", mf_imputer),\n",
    "    (\"encoder\", oe)\n",
    "])\n",
    "\n",
    "cat_pipeline = Pipeline(steps=[\n",
    "    (\"imputer\", mf_imputer),\n",
    "    (\"encoder\", ohe)\n",
    "])\n",
    "\n",
    "ord_pipeline = Pipeline(steps=[\n",
    "    (\"imputer\", mf_imputer),\n",
    "    (\"encoder\", oe)\n",
    "])\n",
    "\n",
    "num_pipeline = Pipeline(steps=[\n",
    "    (\"imputer\", mean_imputer),\n",
    "    (\"scaler\", StandardScaler())\n",
    "])"
   ]
  },
  {
   "cell_type": "code",
   "execution_count": null,
   "id": "24f4edd5",
   "metadata": {},
   "outputs": [],
   "source": [
    "preprocessor = ColumnTransformer(\n",
    "    transformers=[\n",
    "        (\"binary\", bin_pipeline, binary_columns),\n",
    "        (\"categorical\", cat_pipeline, cat_columns),\n",
    "        (\"ordinal\", ord_pipeline, ord_columns),\n",
    "        (\"numerical\", num_pipeline, num_columns)\n",
    "    ],\n",
    "    remainder=\"drop\"\n",
    ")"
   ]
  },
  {
   "cell_type": "code",
   "execution_count": null,
   "id": "b1e8de43",
   "metadata": {},
   "outputs": [],
   "source": [
    "pp_features = preprocessor.fit_transform(features)"
   ]
  },
  {
   "cell_type": "code",
   "execution_count": null,
   "id": "192ed15a",
   "metadata": {},
   "outputs": [],
   "source": [
    "preprocessor.transformers_"
   ]
  },
  {
   "cell_type": "code",
   "execution_count": null,
   "id": "4c71d1e4",
   "metadata": {},
   "outputs": [],
   "source": []
  }
 ],
 "metadata": {
  "kernelspec": {
   "display_name": "cap",
   "language": "python",
   "name": "python3"
  },
  "language_info": {
   "codemirror_mode": {
    "name": "ipython",
    "version": 3
   },
   "file_extension": ".py",
   "mimetype": "text/x-python",
   "name": "python",
   "nbconvert_exporter": "python",
   "pygments_lexer": "ipython3",
   "version": "3.12.3"
  }
 },
 "nbformat": 4,
 "nbformat_minor": 5
}
