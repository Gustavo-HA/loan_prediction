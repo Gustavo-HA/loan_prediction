{
 "cells": [
  {
   "cell_type": "code",
   "execution_count": 1,
   "id": "8f54b4b3",
   "metadata": {},
   "outputs": [],
   "source": [
    "import pandas as pd\n",
    "from sklearn.compose import ColumnTransformer\n",
    "from sklearn.pipeline import Pipeline\n",
    "from sklearn.preprocessing import (\n",
    "    OneHotEncoder,\n",
    "    OrdinalEncoder,\n",
    "    StandardScaler,\n",
    ")\n",
    "\n",
    "import joblib\n",
    "import io\n",
    "\n"
   ]
  },
  {
   "cell_type": "code",
   "execution_count": 21,
   "id": "5d8e5e5a",
   "metadata": {},
   "outputs": [],
   "source": [
    "preprocessor: ColumnTransformer = joblib.load(\n",
    "    \"../models/preprocessor.joblib\"\n",
    ")\n",
    "\n",
    "\n",
    "\n"
   ]
  },
  {
   "cell_type": "code",
   "execution_count": 23,
   "id": "0db13c52",
   "metadata": {},
   "outputs": [],
   "source": [
    "single_row = {\n",
    "    \"Loan_ID\": \"LP001003\",\n",
    "    \"Gender\" : \"Male\",  \n",
    "    \"Married\": \"Yes\",\n",
    "    \"Dependents\": \"1\",\n",
    "    \"Education\": \"Graduate\",\n",
    "    \"Self_Employed\": \"No\",\n",
    "    \"ApplicantIncome\": 4583,\n",
    "    \"CoapplicantIncome\": 1508,\n",
    "    \"LoanAmount\": 128,\n",
    "    \"Loan_Amount_Term\": 360,\n",
    "    \"Credit_History\": 1,\n",
    "    \"Property_Area\": \"Rural\",\n",
    "    \"Loan_Status\": \"Y\"\n",
    "}\n",
    "\n",
    "single_row_df_raw = pd.DataFrame([single_row])\n"
   ]
  },
  {
   "cell_type": "code",
   "execution_count": 18,
   "id": "d422f40f",
   "metadata": {},
   "outputs": [
    {
     "data": {
      "application/vnd.microsoft.datawrangler.viewer.v0+json": {
       "columns": [
        {
         "name": "index",
         "rawType": "int64",
         "type": "integer"
        },
        {
         "name": "Loan_ID",
         "rawType": "object",
         "type": "string"
        },
        {
         "name": "Gender",
         "rawType": "object",
         "type": "string"
        },
        {
         "name": "Married",
         "rawType": "object",
         "type": "string"
        },
        {
         "name": "Dependents",
         "rawType": "object",
         "type": "string"
        },
        {
         "name": "Education",
         "rawType": "object",
         "type": "string"
        },
        {
         "name": "Self_Employed",
         "rawType": "object",
         "type": "string"
        },
        {
         "name": "ApplicantIncome",
         "rawType": "int64",
         "type": "integer"
        },
        {
         "name": "CoapplicantIncome",
         "rawType": "int64",
         "type": "integer"
        },
        {
         "name": "LoanAmount",
         "rawType": "int64",
         "type": "integer"
        },
        {
         "name": "Loan_Amount_Term",
         "rawType": "int64",
         "type": "integer"
        },
        {
         "name": "Credit_History",
         "rawType": "int64",
         "type": "integer"
        },
        {
         "name": "Property_Area",
         "rawType": "object",
         "type": "string"
        }
       ],
       "ref": "1fe6b9de-4cd5-4edc-9a6a-c7305e65ec49",
       "rows": [
        [
         "0",
         "LP001003",
         "Male",
         "Yes",
         "1",
         "Graduate",
         "No",
         "4583",
         "1508",
         "128",
         "360",
         "1",
         "Rural"
        ]
       ],
       "shape": {
        "columns": 12,
        "rows": 1
       }
      },
      "text/html": [
       "<div>\n",
       "<style scoped>\n",
       "    .dataframe tbody tr th:only-of-type {\n",
       "        vertical-align: middle;\n",
       "    }\n",
       "\n",
       "    .dataframe tbody tr th {\n",
       "        vertical-align: top;\n",
       "    }\n",
       "\n",
       "    .dataframe thead th {\n",
       "        text-align: right;\n",
       "    }\n",
       "</style>\n",
       "<table border=\"1\" class=\"dataframe\">\n",
       "  <thead>\n",
       "    <tr style=\"text-align: right;\">\n",
       "      <th></th>\n",
       "      <th>Loan_ID</th>\n",
       "      <th>Gender</th>\n",
       "      <th>Married</th>\n",
       "      <th>Dependents</th>\n",
       "      <th>Education</th>\n",
       "      <th>Self_Employed</th>\n",
       "      <th>ApplicantIncome</th>\n",
       "      <th>CoapplicantIncome</th>\n",
       "      <th>LoanAmount</th>\n",
       "      <th>Loan_Amount_Term</th>\n",
       "      <th>Credit_History</th>\n",
       "      <th>Property_Area</th>\n",
       "    </tr>\n",
       "  </thead>\n",
       "  <tbody>\n",
       "    <tr>\n",
       "      <th>0</th>\n",
       "      <td>LP001003</td>\n",
       "      <td>Male</td>\n",
       "      <td>Yes</td>\n",
       "      <td>1</td>\n",
       "      <td>Graduate</td>\n",
       "      <td>No</td>\n",
       "      <td>4583</td>\n",
       "      <td>1508</td>\n",
       "      <td>128</td>\n",
       "      <td>360</td>\n",
       "      <td>1</td>\n",
       "      <td>Rural</td>\n",
       "    </tr>\n",
       "  </tbody>\n",
       "</table>\n",
       "</div>"
      ],
      "text/plain": [
       "    Loan_ID Gender Married Dependents Education Self_Employed  \\\n",
       "0  LP001003   Male     Yes          1  Graduate            No   \n",
       "\n",
       "   ApplicantIncome  CoapplicantIncome  LoanAmount  Loan_Amount_Term  \\\n",
       "0             4583               1508         128               360   \n",
       "\n",
       "   Credit_History Property_Area  \n",
       "0               1         Rural  "
      ]
     },
     "execution_count": 18,
     "metadata": {},
     "output_type": "execute_result"
    }
   ],
   "source": [
    "single_row_df_raw"
   ]
  },
  {
   "cell_type": "code",
   "execution_count": 24,
   "id": "6e6f0d69",
   "metadata": {},
   "outputs": [
    {
     "data": {
      "application/vnd.microsoft.datawrangler.viewer.v0+json": {
       "columns": [
        {
         "name": "index",
         "rawType": "int64",
         "type": "integer"
        },
        {
         "name": "binary__Gender",
         "rawType": "float64",
         "type": "float"
        },
        {
         "name": "binary__Married",
         "rawType": "float64",
         "type": "float"
        },
        {
         "name": "binary__Education",
         "rawType": "float64",
         "type": "float"
        },
        {
         "name": "binary__Self_Employed",
         "rawType": "float64",
         "type": "float"
        },
        {
         "name": "binary__Credit_History",
         "rawType": "float64",
         "type": "float"
        },
        {
         "name": "categorical__Property_Area_Rural",
         "rawType": "float64",
         "type": "float"
        },
        {
         "name": "categorical__Property_Area_Semiurban",
         "rawType": "float64",
         "type": "float"
        },
        {
         "name": "categorical__Property_Area_Urban",
         "rawType": "float64",
         "type": "float"
        },
        {
         "name": "ordinal__Dependents",
         "rawType": "float64",
         "type": "float"
        },
        {
         "name": "ordinal__Loan_Amount_Term",
         "rawType": "float64",
         "type": "float"
        },
        {
         "name": "numerical__ApplicantIncome",
         "rawType": "float64",
         "type": "float"
        },
        {
         "name": "numerical__CoapplicantIncome",
         "rawType": "float64",
         "type": "float"
        },
        {
         "name": "numerical__LoanAmount",
         "rawType": "float64",
         "type": "float"
        }
       ],
       "ref": "e71ec687-a6a0-43a7-8dee-05b9690b2a34",
       "rows": [
        [
         "0",
         "1.0",
         "1.0",
         "0.0",
         "0.0",
         "1.0",
         "1.0",
         "0.0",
         "0.0",
         "1.0",
         "8.0",
         "-0.13441195378345122",
         "-0.03873154846446157",
         "-0.21927331495275867"
        ]
       ],
       "shape": {
        "columns": 13,
        "rows": 1
       }
      },
      "text/html": [
       "<div>\n",
       "<style scoped>\n",
       "    .dataframe tbody tr th:only-of-type {\n",
       "        vertical-align: middle;\n",
       "    }\n",
       "\n",
       "    .dataframe tbody tr th {\n",
       "        vertical-align: top;\n",
       "    }\n",
       "\n",
       "    .dataframe thead th {\n",
       "        text-align: right;\n",
       "    }\n",
       "</style>\n",
       "<table border=\"1\" class=\"dataframe\">\n",
       "  <thead>\n",
       "    <tr style=\"text-align: right;\">\n",
       "      <th></th>\n",
       "      <th>binary__Gender</th>\n",
       "      <th>binary__Married</th>\n",
       "      <th>binary__Education</th>\n",
       "      <th>binary__Self_Employed</th>\n",
       "      <th>binary__Credit_History</th>\n",
       "      <th>categorical__Property_Area_Rural</th>\n",
       "      <th>categorical__Property_Area_Semiurban</th>\n",
       "      <th>categorical__Property_Area_Urban</th>\n",
       "      <th>ordinal__Dependents</th>\n",
       "      <th>ordinal__Loan_Amount_Term</th>\n",
       "      <th>numerical__ApplicantIncome</th>\n",
       "      <th>numerical__CoapplicantIncome</th>\n",
       "      <th>numerical__LoanAmount</th>\n",
       "    </tr>\n",
       "  </thead>\n",
       "  <tbody>\n",
       "    <tr>\n",
       "      <th>0</th>\n",
       "      <td>1.0</td>\n",
       "      <td>1.0</td>\n",
       "      <td>0.0</td>\n",
       "      <td>0.0</td>\n",
       "      <td>1.0</td>\n",
       "      <td>1.0</td>\n",
       "      <td>0.0</td>\n",
       "      <td>0.0</td>\n",
       "      <td>1.0</td>\n",
       "      <td>8.0</td>\n",
       "      <td>-0.134412</td>\n",
       "      <td>-0.038732</td>\n",
       "      <td>-0.219273</td>\n",
       "    </tr>\n",
       "  </tbody>\n",
       "</table>\n",
       "</div>"
      ],
      "text/plain": [
       "   binary__Gender  binary__Married  binary__Education  binary__Self_Employed  \\\n",
       "0             1.0              1.0                0.0                    0.0   \n",
       "\n",
       "   binary__Credit_History  categorical__Property_Area_Rural  \\\n",
       "0                     1.0                               1.0   \n",
       "\n",
       "   categorical__Property_Area_Semiurban  categorical__Property_Area_Urban  \\\n",
       "0                                   0.0                               0.0   \n",
       "\n",
       "   ordinal__Dependents  ordinal__Loan_Amount_Term  numerical__ApplicantIncome  \\\n",
       "0                  1.0                        8.0                   -0.134412   \n",
       "\n",
       "   numerical__CoapplicantIncome  numerical__LoanAmount  \n",
       "0                     -0.038732              -0.219273  "
      ]
     },
     "execution_count": 24,
     "metadata": {},
     "output_type": "execute_result"
    }
   ],
   "source": [
    "preprocessor.transform(single_row_df_raw)"
   ]
  }
 ],
 "metadata": {
  "kernelspec": {
   "display_name": "cap",
   "language": "python",
   "name": "python3"
  },
  "language_info": {
   "codemirror_mode": {
    "name": "ipython",
    "version": 3
   },
   "file_extension": ".py",
   "mimetype": "text/x-python",
   "name": "python",
   "nbconvert_exporter": "python",
   "pygments_lexer": "ipython3",
   "version": "3.12.3"
  }
 },
 "nbformat": 4,
 "nbformat_minor": 5
}
